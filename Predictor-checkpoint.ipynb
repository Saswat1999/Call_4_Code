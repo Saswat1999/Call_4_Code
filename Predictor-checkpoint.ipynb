{
 "cells": [
  {
   "cell_type": "code",
   "execution_count": 1,
   "metadata": {},
   "outputs": [
    {
     "name": "stdout",
     "output_type": "stream",
     "text": [
      " * Serving Flask app \"__main__\" (lazy loading)\n",
      " * Environment: production\n",
      "   WARNING: Do not use the development server in a production environment.\n",
      "   Use a production WSGI server instead.\n",
      " * Debug mode: on\n"
     ]
    },
    {
     "name": "stderr",
     "output_type": "stream",
     "text": [
      " * Restarting with stat\n"
     ]
    },
    {
     "ename": "SystemExit",
     "evalue": "1",
     "output_type": "error",
     "traceback": [
      "An exception has occurred, use %tb to see the full traceback.\n",
      "\u001b[1;31mSystemExit\u001b[0m\u001b[1;31m:\u001b[0m 1\n"
     ]
    },
    {
     "name": "stderr",
     "output_type": "stream",
     "text": [
      "C:\\Users\\Lenovo\\Anaconda3\\lib\\site-packages\\IPython\\core\\interactiveshell.py:3304: UserWarning: To exit: use 'exit', 'quit', or Ctrl-D.\n",
      "  warn(\"To exit: use 'exit', 'quit', or Ctrl-D.\", stacklevel=1)\n"
     ]
    }
   ],
   "source": [
    "from flask import Flask, render_template, request\n",
    "from flask import redirect, url_for, flash\n",
    "import pandas as pd\n",
    "import numpy as np\n",
    "import pickle\n",
    "from sklearn.linear_model import LinearRegression\n",
    "\n",
    "\n",
    "app = Flask(__name__)\n",
    "\n",
    "df = pd.read_csv('test.csv')\n",
    "clf = pickle.load(open('out.pkl','rb'))\n",
    "elc = pickle.load(open('elct.pkl','rb'))\n",
    "\n",
    "\n",
    "@app.route('/')\n",
    "def index():\n",
    "   return render_template('XUB.html')\n",
    "\n",
    "\n",
    "\n",
    "\n",
    "@app.route('/result',methods = ['POST', 'GET'])\n",
    "def result():\n",
    "   if request.method == 'POST':\n",
    "      result = request.form\n",
    "      #alert = result['alert']\n",
    "      wind = result['windspeed']\n",
    "      rain = result['rainfall']\n",
    "      sea = result['sea']\n",
    "      #river = result['river']\n",
    "      #dev = result['devlop']\n",
    "      #dis = result['disaster']\n",
    "      \n",
    "      #alert = int(alert)\n",
    "      wind = int(wind)\n",
    "      rain = int(rain)\n",
    "      sea = int(sea)\n",
    "      #river = int(river)\n",
    "      #dev = int(dev)\n",
    "      #dis = int(dis)\n",
    "      \n",
    "      option1 = request.form['options1']\n",
    "      alert = int(option1)\n",
    "      option2 = request.form['options2']\n",
    "      river = int(option2)\n",
    "      option3 = request.form['options3']\n",
    "      dev = int(option3)\n",
    "      option4 = request.form['options4']\n",
    "      dis = int(option4)\n",
    "      \n",
    "      y = [[alert,wind,rain,sea,river,dev,dis]]\n",
    "      y = np.array(y)\n",
    "          \n",
    "      x = clf.predict(y) \n",
    "          \n",
    "      z = elc.predict(y)\n",
    "      \n",
    "      if alert == 0:\n",
    "          alert = 'Red'\n",
    "      elif alert==1:\n",
    "          alert ='Orange'\n",
    "      else:\n",
    "          alert = 'Yellow'\n",
    "          \n",
    "          \n",
    "      if river == 0:\n",
    "          river = 'Yes'\n",
    "      else:\n",
    "          river = 'No'\n",
    "          \n",
    "      if dev == 0:\n",
    "          dev = 'Fully'\n",
    "      elif dev==1:\n",
    "          dev ='Semi'\n",
    "      else:\n",
    "          dev = 'Under'\n",
    "          \n",
    "      if dis == 0:\n",
    "          dis = 'Cyclone'\n",
    "      else:\n",
    "          dis = 'Flood'\n",
    "          \n",
    "      context1 = {'x':x,'z':z,'alert':alert,'rain':rain,'wind':wind,'sea':sea,'river':river,'dev':dev,'dis':dis}\n",
    "      #context2 = {'z':z}\n",
    "      return render_template(\"result.html\",result=result,**context1)\n",
    "\n",
    "if __name__ == '__main__':\n",
    "   app.run(debug = True)"
   ]
  },
  {
   "cell_type": "code",
   "execution_count": null,
   "metadata": {},
   "outputs": [],
   "source": []
  }
 ],
 "metadata": {
  "kernelspec": {
   "display_name": "Python 3",
   "language": "python",
   "name": "python3"
  },
  "language_info": {
   "codemirror_mode": {
    "name": "ipython",
    "version": 3
   },
   "file_extension": ".py",
   "mimetype": "text/x-python",
   "name": "python",
   "nbconvert_exporter": "python",
   "pygments_lexer": "ipython3",
   "version": "3.7.3"
  }
 },
 "nbformat": 4,
 "nbformat_minor": 2
}
